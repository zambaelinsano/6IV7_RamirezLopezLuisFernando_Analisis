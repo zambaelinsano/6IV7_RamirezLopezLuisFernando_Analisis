{
 "cells": [
  {
   "cell_type": "markdown",
   "id": "107f48ee-52a0-4c31-8616-62f0c6d08c44",
   "metadata": {},
   "source": [
    "# 2.-Introducción a la Programación con Python"
   ]
  },
  {
   "cell_type": "markdown",
   "id": "ea41ab63-e16c-49b9-83c6-d596c6d5bf1f",
   "metadata": {},
   "source": [
    "Ya has usado iPython de calculadora con expresiones como sumas"
   ]
  },
  {
   "cell_type": "markdown",
   "id": "b4b3f36d-d890-4bbf-9a7d-d3b41fac5f28",
   "metadata": {},
   "source": [
    "## 2.2.- Operadores Aritméticos"
   ]
  },
  {
   "cell_type": "markdown",
   "id": "c4ef828e-4186-407b-ad79-ba97eed7c741",
   "metadata": {},
   "source": [
    "### 2.2.1.- Variables y asignaciones"
   ]
  },
  {
   "cell_type": "code",
   "execution_count": 2,
   "id": "41ca1908-31b9-4400-bde9-859935737dbf",
   "metadata": {},
   "outputs": [],
   "source": [
    "In[1]: 30+21\n",
    "Out[1]: 51"
   ]
  },
  {
   "cell_type": "markdown",
   "id": "67de4824-f60b-42ad-94c0-88ef30c200f7",
   "metadata": {},
   "source": [
    "Creemos una variable w que valga 39"
   ]
  },
  {
   "cell_type": "code",
   "execution_count": 6,
   "id": "8bc4f8d0-21dc-49ab-9dcc-3f3cff6dcad1",
   "metadata": {},
   "outputs": [],
   "source": [
    "w = 39"
   ]
  },
  {
   "cell_type": "code",
   "execution_count": 12,
   "id": "7bbd9cf7-1155-4e34-a91a-aa24460eb51f",
   "metadata": {},
   "outputs": [],
   "source": [
    "y=20"
   ]
  },
  {
   "cell_type": "markdown",
   "id": "9c91670c-5e61-498d-98b5-ffed9823c035",
   "metadata": {},
   "source": [
    "Es útil realizar estas declaraciones, ya que las declaraciones permiten almacenar valores que pueden ser útiles posteriormente. Por ejemplo:"
   ]
  },
  {
   "cell_type": "code",
   "execution_count": 11,
   "id": "f99306ff-a0fa-4337-b651-0153f28dd099",
   "metadata": {},
   "outputs": [],
   "source": [
    "In[1]: 9 + 2\n",
    "Out[1]: 11\n",
    "z = 7\n",
    "In[4]: w / z"
   ]
  },
  {
   "cell_type": "code",
   "execution_count": null,
   "id": "aea3bd86-29ed-4b4e-8a54-0d3c96ad348b",
   "metadata": {},
   "outputs": [],
   "source": [
    "In[1]: 9 + 2\n",
    "Out[1]: 11\n",
    "In[3]: w / y"
   ]
  },
  {
   "cell_type": "markdown",
   "id": "c4545a41-a888-4f8f-abd8-2db07631a346",
   "metadata": {},
   "source": [
    "Continuando con esta forma de declarar las variables, también podemos asignar"
   ]
  },
  {
   "cell_type": "code",
   "execution_count": 17,
   "id": "cbf482f5-cbbd-4ea4-bc2c-99b6e62be741",
   "metadata": {},
   "outputs": [],
   "source": [
    "division = w/z\n",
    "In[6]: division\n",
    "Out[6]: 39/7"
   ]
  },
  {
   "cell_type": "code",
   "execution_count": 18,
   "id": "9ba3b30a-b0e7-4312-9978-77743e51a615",
   "metadata": {},
   "outputs": [],
   "source": [
    "multiplicacion = w*z\n",
    "In[7]: multiplicacion\n",
    "Out[7]: 39*7"
   ]
  },
  {
   "cell_type": "code",
   "execution_count": 19,
   "id": "b2302f65-a9fc-4c31-bb85-be4e7b8ffd8f",
   "metadata": {},
   "outputs": [],
   "source": [
    "suma = w+z\n",
    "In[7]: suma\n",
    "Out[7]: 39+7"
   ]
  },
  {
   "cell_type": "markdown",
   "id": "d115b081-5d07-49e9-b258-92ff1171045d",
   "metadata": {},
   "source": [
    "Observa lo que ocurre si escribes"
   ]
  },
  {
   "cell_type": "code",
   "execution_count": 20,
   "id": "9fb52bea-5cd2-4da1-a8bd-36271b55caa3",
   "metadata": {},
   "outputs": [
    {
     "ename": "NameError",
     "evalue": "name 'Division' is not defined",
     "output_type": "error",
     "traceback": [
      "\u001b[1;31m---------------------------------------------------------------------------\u001b[0m",
      "\u001b[1;31mNameError\u001b[0m                                 Traceback (most recent call last)",
      "Cell \u001b[1;32mIn[20], line 1\u001b[0m\n\u001b[1;32m----> 1\u001b[0m In[\u001b[38;5;241m7\u001b[39m]:Division\n",
      "\u001b[1;31mNameError\u001b[0m: name 'Division' is not defined"
     ]
    }
   ],
   "source": [
    "In[7]:Division\n"
   ]
  },
  {
   "cell_type": "markdown",
   "id": "10b311be-a87f-48fe-ac68-fd758a6531d5",
   "metadata": {},
   "source": [
    "¿De qué tipo es la variable división?. Teclea type(división)"
   ]
  },
  {
   "cell_type": "code",
   "execution_count": 21,
   "id": "6f9311d2-bbe9-4fb5-8ed9-7391b69b344a",
   "metadata": {},
   "outputs": [],
   "source": [
    "In[9]:type(division)\n",
    "Out[9]:float"
   ]
  },
  {
   "cell_type": "markdown",
   "id": "a8787aa5-1a17-4584-895a-af65cc8caccc",
   "metadata": {},
   "source": [
    " Python reconoce a la variable w como un entero."
   ]
  },
  {
   "cell_type": "code",
   "execution_count": 22,
   "id": "afe037f0-de37-41e2-953d-d844e0a80fda",
   "metadata": {},
   "outputs": [],
   "source": [
    "In[8]:type(w)\n",
    "Out[8]:int"
   ]
  },
  {
   "cell_type": "code",
   "execution_count": 23,
   "id": "3c6d97c5-83ab-4e21-9ac7-19af7773bd28",
   "metadata": {},
   "outputs": [],
   "source": [
    "In[8]:type(y)\n",
    "Out[8]:int"
   ]
  },
  {
   "cell_type": "markdown",
   "id": "005e7373-42db-4a0d-adfd-9bbce8142a24",
   "metadata": {},
   "source": [
    "#### Por tu cuenta\n",
    "\n",
    "Calcula la suma de 10.8, 12.2 y 0.2, guardala en una variable llamada b, y muestra la variable"
   ]
  },
  {
   "cell_type": "code",
   "execution_count": 25,
   "id": "b311d94d-52f6-4118-a6aa-76bea95587ab",
   "metadata": {},
   "outputs": [
    {
     "name": "stdout",
     "output_type": "stream",
     "text": [
      "23.2\n"
     ]
    }
   ],
   "source": [
    "suma=10.8+12.2+0.2\n",
    "In[10]:suma\n",
    "b=suma\n",
    "print(b)"
   ]
  },
  {
   "cell_type": "markdown",
   "id": "9465c9ba-b34b-429a-8881-36d24df64a7e",
   "metadata": {},
   "source": [
    "### 2.2.2.- Aritmetica"
   ]
  },
  {
   "cell_type": "markdown",
   "id": "7b42b218-4742-47d9-b736-e98261be0587",
   "metadata": {},
   "source": [
    "##### Multiplicación \n",
    "\n",
    "Realiza un 7 * 4"
   ]
  },
  {
   "cell_type": "code",
   "execution_count": 26,
   "id": "6b91ef2e-d2e0-4b02-8f26-0711925b0776",
   "metadata": {},
   "outputs": [
    {
     "name": "stdout",
     "output_type": "stream",
     "text": [
      "28\n"
     ]
    }
   ],
   "source": [
    "mul=7*4\n",
    "In[10]:mul\n",
    "a=mul\n",
    "print(a)"
   ]
  },
  {
   "cell_type": "markdown",
   "id": "6d23d001-7a4c-4145-b914-2f82ed77037a",
   "metadata": {},
   "source": [
    "##### Exponenciación\n",
    "\n",
    "Realiza un 2 ** 4"
   ]
  },
  {
   "cell_type": "code",
   "execution_count": 27,
   "id": "9099f0a2-8c8a-43bb-89f7-1777ad5ffcad",
   "metadata": {},
   "outputs": [
    {
     "name": "stdout",
     "output_type": "stream",
     "text": [
      "16\n"
     ]
    }
   ],
   "source": [
    "ex=2**4\n",
    "In[10]:ex\n",
    "c=ex\n",
    "print(c)"
   ]
  },
  {
   "cell_type": "markdown",
   "id": "7221d3fd-6edd-4646-960e-5234eb1224cb",
   "metadata": {},
   "source": [
    "##### División Verdadera\n",
    "\n",
    "Divide 8/5"
   ]
  },
  {
   "cell_type": "code",
   "execution_count": 28,
   "id": "956eaff7-044d-4321-9117-9c79838fdfe9",
   "metadata": {},
   "outputs": [
    {
     "name": "stdout",
     "output_type": "stream",
     "text": [
      "1.6\n"
     ]
    }
   ],
   "source": [
    "div=8/5\n",
    "In[10]:div\n",
    "d=div\n",
    "print(d)"
   ]
  },
  {
   "cell_type": "markdown",
   "id": "acd82688-1da7-4d4b-8770-a2c8cf1a9959",
   "metadata": {},
   "source": [
    "##### División de piso\n",
    "\n",
    "Divide 20//6 - verás como te da un rsultado entero"
   ]
  },
  {
   "cell_type": "code",
   "execution_count": 30,
   "id": "5bdd55d8-2a08-49b5-80bd-98c741b5b3a1",
   "metadata": {},
   "outputs": [
    {
     "name": "stdout",
     "output_type": "stream",
     "text": [
      "3\n"
     ]
    }
   ],
   "source": [
    "di=20//6\n",
    "In[10]:di\n",
    "e=di\n",
    "print(e)"
   ]
  },
  {
   "cell_type": "markdown",
   "id": "7c5a2f8a-d79d-40f6-a019-ac2ad4e176b8",
   "metadata": {},
   "source": [
    "##### Restante\n",
    "\n",
    "Ahora obten el restante de dividir 26 / 8 usando el operador %"
   ]
  },
  {
   "cell_type": "code",
   "execution_count": 31,
   "id": "06df6019-2880-42da-bc70-e8fe75b8085f",
   "metadata": {},
   "outputs": [
    {
     "name": "stdout",
     "output_type": "stream",
     "text": [
      "2\n"
     ]
    }
   ],
   "source": [
    "restante = 26 % 8\n",
    "print(restante)\n"
   ]
  },
  {
   "cell_type": "markdown",
   "id": "7b682671-bc7b-4e34-8fe8-7b9034a43bc9",
   "metadata": {},
   "source": [
    "##### División de piso\n",
    "\n",
    "Divide 20//6 - verás como te da un resultado entero"
   ]
  },
  {
   "cell_type": "code",
   "execution_count": 32,
   "id": "e74bf267-cecf-4e6c-99ff-8e40b2aac32a",
   "metadata": {},
   "outputs": [
    {
     "name": "stdout",
     "output_type": "stream",
     "text": [
      "3\n"
     ]
    }
   ],
   "source": [
    "restante = 26 // 8\n",
    "print(restante)"
   ]
  },
  {
   "cell_type": "markdown",
   "id": "3259cdcb-13a8-40c6-99fa-bd6611dabc99",
   "metadata": {},
   "source": [
    "##### Agrupación con parentesis\n",
    "\n",
    "Checa que python respeta la jerarquia de operaciones"
   ]
  },
  {
   "cell_type": "code",
   "execution_count": 33,
   "id": "15f252d5-a478-49d9-b98e-01630d77d227",
   "metadata": {},
   "outputs": [],
   "source": [
    "In[11]:1+2**4%5\n",
    "Out[11]:2"
   ]
  },
  {
   "cell_type": "markdown",
   "id": "f280f822-c9b1-4c44-91a3-c6a18ee83f2b",
   "metadata": {},
   "source": [
    "#### Por tu cuenta\n",
    "\n",
    "Evalua la expresión 3*(4-5) con y sin parentesis. Son los paréntesis redundantes?"
   ]
  },
  {
   "cell_type": "code",
   "execution_count": 35,
   "id": "807b7d6b",
   "metadata": {},
   "outputs": [],
   "source": [
    "In[11]:3*(4-5)\n",
    "Out[11]:-3"
   ]
  },
  {
   "cell_type": "markdown",
   "id": "fc5d8121-3fa3-42e7-beb4-bee00ea356c4",
   "metadata": {},
   "source": [
    "---"
   ]
  },
  {
   "cell_type": "markdown",
   "id": "fcbe6ca4-24fd-4150-b7bb-f870814b662e",
   "metadata": {},
   "source": [
    "## 2.3.- Función print, arreglos con comillas simples y dobles comillas"
   ]
  },
  {
   "cell_type": "markdown",
   "id": "d5b0476e-8651-4ade-acbe-5a03a0866865",
   "metadata": {},
   "source": [
    "### 2.3.1.- La función Print"
   ]
  },
  {
   "cell_type": "markdown",
   "id": "18ca616b-3a2c-4184-8381-3a5e6a970e8d",
   "metadata": {},
   "source": [
    "ejecuta el siguiente snippet\n",
    "\n",
    "**print(“Hoy aprenderé a usar la función print”)**"
   ]
  },
  {
   "cell_type": "code",
   "execution_count": 36,
   "id": "058c39e6-75ad-4a4a-b97c-44dc1d4bd4cc",
   "metadata": {},
   "outputs": [
    {
     "name": "stdout",
     "output_type": "stream",
     "text": [
      "Hoy aprendere a usar la funcion print\n"
     ]
    }
   ],
   "source": [
    "In[12]:print(\"Hoy aprendere a usar la funcion print\")"
   ]
  },
  {
   "cell_type": "markdown",
   "id": "8269f4b5-ae18-416f-be14-a05d1da536e2",
   "metadata": {},
   "source": [
    "Ahora Ejecuta\n",
    "\n",
    "**Print(“Hoy aprenderé a usar la función print”)**"
   ]
  },
  {
   "cell_type": "code",
   "execution_count": 37,
   "id": "8100353f-2679-469d-b979-46a710dac3a0",
   "metadata": {},
   "outputs": [
    {
     "name": "stdout",
     "output_type": "stream",
     "text": [
      "Hoy aprendere a usar la funcion print\n"
     ]
    }
   ],
   "source": [
    "In[12]:print('Hoy aprendere a usar la funcion print')"
   ]
  },
  {
   "cell_type": "markdown",
   "id": "63a86fc8-6aee-4501-8474-4b11c0cdd7e6",
   "metadata": {},
   "source": [
    "Por ejemplo, para declarar el arreglo\n",
    "Hoy aprenderé a usar la función ‘print’"
   ]
  },
  {
   "cell_type": "markdown",
   "id": "36f2a965-9b25-4353-9af0-ae233e25fbe8",
   "metadata": {},
   "source": [
    "**print(“Hoy aprenderé a usar la función ‘print’”)**"
   ]
  },
  {
   "cell_type": "code",
   "execution_count": 39,
   "id": "45a00297-3508-4bf3-aa5b-dff48ff9fe2d",
   "metadata": {},
   "outputs": [
    {
     "ename": "SyntaxError",
     "evalue": "invalid syntax. Perhaps you forgot a comma? (1271630386.py, line 1)",
     "output_type": "error",
     "traceback": [
      "\u001b[1;36m  Cell \u001b[1;32mIn[39], line 1\u001b[1;36m\u001b[0m\n\u001b[1;33m    In[12]:print('Hoy aprendere a usar la funcion 'print'')\u001b[0m\n\u001b[1;37m                 ^\u001b[0m\n\u001b[1;31mSyntaxError\u001b[0m\u001b[1;31m:\u001b[0m invalid syntax. Perhaps you forgot a comma?\n"
     ]
    }
   ],
   "source": [
    "In[12]:print('Hoy aprendere a usar la funcion 'print'')"
   ]
  },
  {
   "cell_type": "markdown",
   "id": "bde0dc8c-4eaf-4745-99f3-28da569395a3",
   "metadata": {},
   "source": [
    "### 2.3.1.- Triples comillas\n",
    "\n",
    "Esto se resuelve utilizando dobles comillas"
   ]
  },
  {
   "cell_type": "code",
   "execution_count": 40,
   "id": "e0fdec45-8cb7-4be5-994c-87eef67685d9",
   "metadata": {},
   "outputs": [
    {
     "name": "stdout",
     "output_type": "stream",
     "text": [
      "Hoy aprendere a usar la funcion 'print'\n"
     ]
    }
   ],
   "source": [
    "In[12]:print(\"Hoy aprendere a usar la funcion 'print'\")"
   ]
  },
  {
   "cell_type": "markdown",
   "id": "ea86c6b8-771a-4617-9fec-a93916e87a53",
   "metadata": {},
   "source": [
    "Esta diferencia será más obvia cuando trabajemos líneas de texto en el ambiente de JupyterLab.\n",
    "Otras opciones para insertar texto el prompt de Anaconda son\n",
    "\n",
    "**print(‘Hoy aprenderé’,’a usar’, ‘la función print’)**\n",
    "\n",
    "**print(‘Hoy aprenderé\\n a usar\\n la función print’)**\n",
    "\n",
    "\n",
    "print(‘También aprenderé a dividir \\\n",
    "\n",
    "…: líneas de texto cuando las expresiones \\\n",
    "\n",
    "…: sean demasiado largas’)"
   ]
  },
  {
   "cell_type": "code",
   "execution_count": 41,
   "id": "fe21f618-e1aa-450a-a732-ac880a71eaba",
   "metadata": {},
   "outputs": [
    {
     "ename": "SyntaxError",
     "evalue": "invalid character '‘' (U+2018) (2050769914.py, line 1)",
     "output_type": "error",
     "traceback": [
      "\u001b[1;36m  Cell \u001b[1;32mIn[41], line 1\u001b[1;36m\u001b[0m\n\u001b[1;33m    print(‘Hoy aprenderé’,’a usar’, ‘la función print’)\u001b[0m\n\u001b[1;37m          ^\u001b[0m\n\u001b[1;31mSyntaxError\u001b[0m\u001b[1;31m:\u001b[0m invalid character '‘' (U+2018)\n"
     ]
    }
   ],
   "source": [
    "print(‘Hoy aprenderé’,’a usar’, ‘la función print’)"
   ]
  },
  {
   "cell_type": "code",
   "execution_count": 42,
   "id": "c6db0446-e2b8-4222-8607-613a16ff8329",
   "metadata": {},
   "outputs": [
    {
     "ename": "SyntaxError",
     "evalue": "invalid character '‘' (U+2018) (2902843926.py, line 1)",
     "output_type": "error",
     "traceback": [
      "\u001b[1;36m  Cell \u001b[1;32mIn[42], line 1\u001b[1;36m\u001b[0m\n\u001b[1;33m    print(‘Hoy aprenderé\\n a usar\\n la función print’)\u001b[0m\n\u001b[1;37m          ^\u001b[0m\n\u001b[1;31mSyntaxError\u001b[0m\u001b[1;31m:\u001b[0m invalid character '‘' (U+2018)\n"
     ]
    }
   ],
   "source": [
    "print(‘Hoy aprenderé\\n a usar\\n la función print’)"
   ]
  },
  {
   "cell_type": "code",
   "execution_count": 48,
   "id": "e478be1c-2a17-4323-9e34-48b79dd5bcbc",
   "metadata": {},
   "outputs": [
    {
     "ename": "SyntaxError",
     "evalue": "invalid character '‘' (U+2018) (427177229.py, line 1)",
     "output_type": "error",
     "traceback": [
      "\u001b[1;36m  Cell \u001b[1;32mIn[48], line 1\u001b[1;36m\u001b[0m\n\u001b[1;33m    print(‘También aprenderé a dividir \\\u001b[0m\n\u001b[1;37m          ^\u001b[0m\n\u001b[1;31mSyntaxError\u001b[0m\u001b[1;31m:\u001b[0m invalid character '‘' (U+2018)\n"
     ]
    }
   ],
   "source": [
    "print(‘También aprenderé a dividir \\\n",
    "\n",
    "…: líneas de texto cuando las expresiones \\\n",
    "\n",
    "…: sean demasiado largas’)"
   ]
  },
  {
   "cell_type": "markdown",
   "id": "da8ab0c5-ed69-491b-b0c3-b951eab1b304",
   "metadata": {},
   "source": [
    "Cuando requieras utilizar comillas dobles y sencillas en algún enunciado, por ejemplo\n",
    "\n",
    "Aprender ‘Python’, es realmente “sencillo”\n",
    "\n",
    "Es posible hacerlo utilizando triples comillas"
   ]
  },
  {
   "cell_type": "code",
   "execution_count": 2,
   "id": "610e6493-a12e-4519-a32e-a79194139457",
   "metadata": {},
   "outputs": [
    {
     "name": "stdout",
     "output_type": "stream",
     "text": [
      "Aprender 'Python' es realmente \"sencillo\" \n"
     ]
    }
   ],
   "source": [
    "In[8]: print(\"\"\"Aprender 'Python' es realmente \"sencillo\" \"\"\")"
   ]
  },
  {
   "cell_type": "markdown",
   "id": "13741755-cfd3-4ced-bd60-8722bc73c0d2",
   "metadata": {},
   "source": [
    "Con Python, puedes asignar a una variable un arreglo de caracteres\n",
    "\n",
    "**arreglo1=‘Hoy aprenderé a usar la función print’**"
   ]
  },
  {
   "cell_type": "code",
   "execution_count": 8,
   "id": "a825385d-73b8-4468-8bd3-594a5d7d6abe",
   "metadata": {},
   "outputs": [
    {
     "name": "stdout",
     "output_type": "stream",
     "text": [
      "Hoy aprenderé a usar la función print\n"
     ]
    }
   ],
   "source": [
    "arreglo1='Hoy aprenderé a usar la función print'\n",
    "In[10]: print(arreglo1)"
   ]
  },
  {
   "cell_type": "markdown",
   "id": "3b14599d-02fb-4c28-8dfd-b27b01ee8e28",
   "metadata": {},
   "source": [
    "Con estas herramientas, ya puedes mostrar los resultados de los cálculos en una forma más amigable\n",
    "\n",
    "Arma un programa que divida 2 variables y devuelva \"w elevado a la z da por resultado y\""
   ]
  },
  {
   "cell_type": "code",
   "execution_count": 10,
   "id": "6e2e6bd5-ccdc-4dad-9a3b-a98149839106",
   "metadata": {},
   "outputs": [
    {
     "name": "stdout",
     "output_type": "stream",
     "text": [
      "4 elevado a la 5 da por resultado 1024\n"
     ]
    }
   ],
   "source": [
    "w = 4\n",
    "z = 5\n",
    "y = w ** z\n",
    "print(f\"{w} elevado a la {z} da por resultado {y}\")\n"
   ]
  },
  {
   "cell_type": "markdown",
   "id": "b4585070-9949-427a-84f5-ccf0a3a7f9a1",
   "metadata": {},
   "source": [
    "### 2.3.1.- Obtener input del usuario\n",
    "\n",
    "Input que solicita al usuario la información específica que debe ingresar al programa\n",
    "\n",
    "**nombre=input(‘¿Cuál es tu nombre?’)**"
   ]
  },
  {
   "cell_type": "code",
   "execution_count": 18,
   "id": "371649c1-a963-41d4-8025-670791d36f73",
   "metadata": {},
   "outputs": [
    {
     "name": "stdout",
     "output_type": "stream",
     "text": [
      "luis\n"
     ]
    }
   ],
   "source": [
    "nombre=input('¿Cual es tu nombre?')\n",
    "print(nombre)"
   ]
  },
  {
   "cell_type": "markdown",
   "id": "a853d83c-f42c-4ed3-83eb-2f76d179f626",
   "metadata": {},
   "source": [
    "Posteriormente puedes llamar a la variable nombre"
   ]
  },
  {
   "cell_type": "markdown",
   "id": "f4591abb-8139-466e-a48b-cda83af1bd14",
   "metadata": {},
   "source": [
    "Por default, Python guarda las entradas que recibe del comando input como un arreglo. Checa el type en cuestión"
   ]
  },
  {
   "cell_type": "code",
   "execution_count": 14,
   "id": "cd0ea52b-96b1-4fcd-8be9-322e95a877aa",
   "metadata": {},
   "outputs": [
    {
     "data": {
      "text/plain": [
       "str"
      ]
     },
     "execution_count": 14,
     "metadata": {},
     "output_type": "execute_result"
    }
   ],
   "source": [
    "nombre=input('¿Cual es tu nombre?')\n",
    "\n",
    "type(nombre)"
   ]
  },
  {
   "cell_type": "markdown",
   "id": "5a50edd7-4634-4c10-a0f9-e2a3fb07cd84",
   "metadata": {},
   "source": [
    "Arma un programa que te pida 2 números y los sume"
   ]
  },
  {
   "cell_type": "code",
   "execution_count": null,
   "id": "74947eed-8b26-4a2a-9c0e-567bd73988b7",
   "metadata": {},
   "outputs": [
    {
     "name": "stdout",
     "output_type": "stream",
     "text": [
      "La suma de 2.0 y 3.0 es 5.0\n"
     ]
    }
   ],
   "source": [
    "num1 = input(\"Ingresa el primer número: \")\n",
    "num2 = input(\"Ingresa el segundo número: \")\n",
    "\n",
    "resultado = num1 + num2\n",
    "\n",
    "print(f\"La suma de {num1} y {num2} es {resultado}\")\n"
   ]
  },
  {
   "cell_type": "markdown",
   "id": "69fe69ee-445e-424c-bcd1-8af19b75ef4e",
   "metadata": {},
   "source": [
    "No se pudo, para que python pueda hay que usar **int()**"
   ]
  },
  {
   "cell_type": "code",
   "execution_count": null,
   "id": "8dc93858-923a-41b8-b179-6025fd33878f",
   "metadata": {},
   "outputs": [],
   "source": [
    "num1 = int(input(\"Ingresa el primer número: \"))\n",
    "num2 = int(input(\"Ingresa el segundo número: \"))\n",
    "\n",
    "resultado = num1 + num2\n",
    "\n",
    "print(f\"La suma de {num1} y {num2} es {resultado}\")"
   ]
  },
  {
   "cell_type": "markdown",
   "id": "715564fc-75c1-4dd4-b115-89e1763246a4",
   "metadata": {},
   "source": [
    "#### Por tu cuenta\n",
    "\n",
    "Usa float() para convertir \"6.2\" (una cadena) a un valor flotante"
   ]
  },
  {
   "cell_type": "code",
   "execution_count": 19,
   "id": "f01afb25-e78e-478a-b4f9-93de110705bf",
   "metadata": {},
   "outputs": [
    {
     "name": "stdout",
     "output_type": "stream",
     "text": [
      "6.2\n"
     ]
    }
   ],
   "source": [
    "numero = float(\"6.2\")\n",
    "print(numero) "
   ]
  },
  {
   "cell_type": "markdown",
   "id": "ff47d95b-02aa-4c5a-a539-df106c393c09",
   "metadata": {},
   "source": [
    "---"
   ]
  },
  {
   "cell_type": "markdown",
   "id": "02620ade-789c-4784-a14b-47095b74f033",
   "metadata": {},
   "source": [
    "## 2.4.- Primeros Programas con python"
   ]
  },
  {
   "cell_type": "markdown",
   "id": "056407e5-1261-49e1-81cc-d56e3107abb6",
   "metadata": {},
   "source": [
    "Ejecuta el script ejemplo1_c2.py"
   ]
  },
  {
   "cell_type": "markdown",
   "id": "233bebf3-995f-47cb-9c2b-8ff13c938a44",
   "metadata": {},
   "source": [
    "Recuerda que en python también podemos hacer comparaciones mayor y menor que"
   ]
  },
  {
   "cell_type": "markdown",
   "id": "3bffa3af-3dd7-4672-94d1-bbe18ae7247e",
   "metadata": {},
   "source": [
    "Y que también, para cehcar si algo es igual, se usa =="
   ]
  },
  {
   "cell_type": "code",
   "execution_count": 20,
   "id": "f452cf39-21cd-4b35-aa13-48b1604cc5d2",
   "metadata": {},
   "outputs": [
    {
     "name": "stdout",
     "output_type": "stream",
     "text": [
      "Ingresa tu edad y la de tu mejor amigo, para decirte la relación qué hay entre ellas \n",
      "18 es igual 18 \n",
      " Tu amigo y tú, tienen la misma edad.\n",
      "18  es menor o igual a 18 \n",
      " Tu amigo tiene al menos, tu edad.\n"
     ]
    }
   ],
   "source": [
    "#!/usr/bin/env python\n",
    "# coding: utf-8\n",
    "\n",
    "# In[ ]:\n",
    "\n",
    "\n",
    "# ejemplo1_c2.py\n",
    "\n",
    "\n",
    "# In[ ]:\n",
    "\n",
    "\n",
    "\"\"\"Comparación de enteros mediante sentencias If\"\"\"\n",
    "\n",
    "\n",
    "# In[ ]:\n",
    "\n",
    "\n",
    "print('Ingresa tu edad y la de tu mejor amigo, para decirte la relación qué hay entre ellas ')\n",
    "\n",
    "\n",
    "# In[ ]:\n",
    "\n",
    "\n",
    "#Lee la primera edad \n",
    "\n",
    "\n",
    "# In[ ]:\n",
    "\n",
    "\n",
    "edad1=int(input('Ingresa tu edad: '))\n",
    "\n",
    "\n",
    "# In[ ]:\n",
    "\n",
    "\n",
    "#Lee la segunda edad\n",
    "\n",
    "\n",
    "# In[ ]:\n",
    "\n",
    "\n",
    "edad2=int(input('Ingresa la edad de tu mejor amigo: '))\n",
    "\n",
    "\n",
    "# In[ ]:\n",
    "\n",
    "\n",
    "if edad1==edad2:\n",
    "    print(edad1,'es igual',edad2,'\\n Tu amigo y tú, tienen la misma edad.')\n",
    "if edad1 !=edad2:\n",
    "    print(edad1,' es diferente de',edad2,'\\n Tu amigo y tú tienen edades diferentes.')\n",
    "if edad1 < edad2:\n",
    "    print(edad1,' es menor que',edad2,'\\n Tu amigo es mayor que tú.')\n",
    "if edad1 > edad2:\n",
    "    print(edad1,' es mayor que',edad2,'\\n Tu amigo es menor que tú.')\n",
    "if edad1 <= edad2:\n",
    "    print(edad1,' es menor o igual a',edad2,'\\n Tu amigo tiene al menos, tu edad.')\n",
    "if edad1 > edad2:\n",
    "    print(edad1,' es mayor que',edad2,'\\n Tu amigo tiene a lo más, tu edad.')\n",
    "\n",
    "\n",
    "# In[ ]:"
   ]
  },
  {
   "cell_type": "markdown",
   "id": "58b2b137-def5-4acb-ae48-f07f3783d3de",
   "metadata": {},
   "source": [
    "---"
   ]
  }
 ],
 "metadata": {
  "kernelspec": {
   "display_name": "base",
   "language": "python",
   "name": "python3"
  },
  "language_info": {
   "codemirror_mode": {
    "name": "ipython",
    "version": 3
   },
   "file_extension": ".py",
   "mimetype": "text/x-python",
   "name": "python",
   "nbconvert_exporter": "python",
   "pygments_lexer": "ipython3",
   "version": "3.12.7"
  }
 },
 "nbformat": 4,
 "nbformat_minor": 5
}
